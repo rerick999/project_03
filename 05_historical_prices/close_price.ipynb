{
 "cells": [
  {
   "cell_type": "code",
   "execution_count": 1,
   "metadata": {},
   "outputs": [],
   "source": [
    "# import dependancies\n",
    "\n",
    "import pandas as pd\n",
    "import yfinance as yf\n",
    "import datetime as dt\n",
    "from datetime import date\n",
    "import os\n",
    "import json\n",
    "import csv\n",
    "\n",
    "# Define file paths\n",
    "current_dir = os.getcwd()\n",
    "parent_dir = os.path.dirname(current_dir)\n",
    "ticker_dir = os.path.join(parent_dir,'stock_scrape_load')\n",
    "ticker_path = f\"{ticker_dir}/top_100_company_tickers.csv\"\n",
    "output_path = os.path.join(parent_dir,'05_michael_test')"
   ]
  },
  {
   "cell_type": "code",
   "execution_count": 2,
   "metadata": {},
   "outputs": [
    {
     "data": {
      "text/html": [
       "<div>\n",
       "<style scoped>\n",
       "    .dataframe tbody tr th:only-of-type {\n",
       "        vertical-align: middle;\n",
       "    }\n",
       "\n",
       "    .dataframe tbody tr th {\n",
       "        vertical-align: top;\n",
       "    }\n",
       "\n",
       "    .dataframe thead th {\n",
       "        text-align: right;\n",
       "    }\n",
       "</style>\n",
       "<table border=\"1\" class=\"dataframe\">\n",
       "  <thead>\n",
       "    <tr style=\"text-align: right;\">\n",
       "      <th></th>\n",
       "      <th>Open</th>\n",
       "      <th>High</th>\n",
       "      <th>Low</th>\n",
       "      <th>Close</th>\n",
       "      <th>Volume</th>\n",
       "      <th>Dividends</th>\n",
       "      <th>Stock Splits</th>\n",
       "    </tr>\n",
       "    <tr>\n",
       "      <th>Date</th>\n",
       "      <th></th>\n",
       "      <th></th>\n",
       "      <th></th>\n",
       "      <th></th>\n",
       "      <th></th>\n",
       "      <th></th>\n",
       "      <th></th>\n",
       "    </tr>\n",
       "  </thead>\n",
       "  <tbody>\n",
       "    <tr>\n",
       "      <th>2023-07-11 00:00:00-04:00</th>\n",
       "      <td>116.760002</td>\n",
       "      <td>118.224998</td>\n",
       "      <td>115.830002</td>\n",
       "      <td>117.709999</td>\n",
       "      <td>18286600</td>\n",
       "      <td>0.0</td>\n",
       "      <td>0.0</td>\n",
       "    </tr>\n",
       "    <tr>\n",
       "      <th>2023-07-12 00:00:00-04:00</th>\n",
       "      <td>119.300003</td>\n",
       "      <td>120.959999</td>\n",
       "      <td>119.000000</td>\n",
       "      <td>119.620003</td>\n",
       "      <td>22059600</td>\n",
       "      <td>0.0</td>\n",
       "      <td>0.0</td>\n",
       "    </tr>\n",
       "    <tr>\n",
       "      <th>2023-07-13 00:00:00-04:00</th>\n",
       "      <td>121.540001</td>\n",
       "      <td>125.334999</td>\n",
       "      <td>121.059998</td>\n",
       "      <td>124.830002</td>\n",
       "      <td>31535900</td>\n",
       "      <td>0.0</td>\n",
       "      <td>0.0</td>\n",
       "    </tr>\n",
       "    <tr>\n",
       "      <th>2023-07-14 00:00:00-04:00</th>\n",
       "      <td>125.129997</td>\n",
       "      <td>127.089996</td>\n",
       "      <td>124.900002</td>\n",
       "      <td>125.699997</td>\n",
       "      <td>20482800</td>\n",
       "      <td>0.0</td>\n",
       "      <td>0.0</td>\n",
       "    </tr>\n",
       "  </tbody>\n",
       "</table>\n",
       "</div>"
      ],
      "text/plain": [
       "                                 Open        High         Low       Close  \\\n",
       "Date                                                                        \n",
       "2023-07-11 00:00:00-04:00  116.760002  118.224998  115.830002  117.709999   \n",
       "2023-07-12 00:00:00-04:00  119.300003  120.959999  119.000000  119.620003   \n",
       "2023-07-13 00:00:00-04:00  121.540001  125.334999  121.059998  124.830002   \n",
       "2023-07-14 00:00:00-04:00  125.129997  127.089996  124.900002  125.699997   \n",
       "\n",
       "                             Volume  Dividends  Stock Splits  \n",
       "Date                                                          \n",
       "2023-07-11 00:00:00-04:00  18286600        0.0           0.0  \n",
       "2023-07-12 00:00:00-04:00  22059600        0.0           0.0  \n",
       "2023-07-13 00:00:00-04:00  31535900        0.0           0.0  \n",
       "2023-07-14 00:00:00-04:00  20482800        0.0           0.0  "
      ]
     },
     "execution_count": 2,
     "metadata": {},
     "output_type": "execute_result"
    }
   ],
   "source": [
    "goog = yf.Ticker('GOOG')\n",
    "goog.history(start = '2023-07-11', end = '2023-07-15')"
   ]
  },
  {
   "cell_type": "code",
   "execution_count": 3,
   "metadata": {},
   "outputs": [],
   "source": [
    "\n",
    "# dates = ['2023-07-11','2023-07-12','2023-7-13','2023-07-14' ]\n",
    "\n",
    "# Define function to grab requested into from yfinance\n",
    "# This is a modified version of the function from the company_address_pull_nb.ipynb \n",
    "def get_info(ticker):\n",
    "    print(\"processing... \", ticker)\n",
    "    company = yf.Ticker(ticker)\n",
    "    short_name = company.info['shortName']\n",
    "    long_name = company.info['longName']\n",
    "    exchange = company.info['exchange']\n",
    "    prev_close = company.info['previousClose']\n",
    "    data = {ticker:{\n",
    "        'shortName':short_name,\n",
    "        'longName':long_name,\n",
    "        'exchange':exchange,\n",
    "        'previousClose':prev_close\n",
    "    }}\n",
    "    return(data)"
   ]
  },
  {
   "cell_type": "code",
   "execution_count": 4,
   "metadata": {},
   "outputs": [
    {
     "name": "stdout",
     "output_type": "stream",
     "text": [
      "processing...  AAPL\n",
      "processing...  MSFT\n",
      "processing...  GOOG\n",
      "processing...  AMZN\n",
      "processing...  NVDA\n",
      "processing...  TSLA\n",
      "processing...  BRK-B\n",
      "processing...  META\n",
      "processing...  V\n",
      "processing...  UNH\n",
      "processing...  LLY\n",
      "processing...  WMT\n",
      "processing...  JPM\n",
      "processing...  JNJ\n",
      "processing...  XOM\n",
      "processing...  MA\n",
      "processing...  PG\n",
      "processing...  AVGO\n",
      "processing...  ORCL\n",
      "processing...  HD\n",
      "processing...  MRK\n",
      "processing...  CVX\n",
      "processing...  KO\n",
      "processing...  PEP\n",
      "processing...  ABBV\n",
      "processing...  COST\n",
      "processing...  BAC\n",
      "processing...  ADBE\n",
      "processing...  MCD\n",
      "processing...  CSCO\n",
      "processing...  CRM\n",
      "processing...  PFE\n",
      "processing...  TMO\n",
      "processing...  NFLX\n",
      "processing...  ABT\n",
      "processing...  AMD\n",
      "processing...  DHR\n",
      "processing...  CMCSA\n",
      "processing...  TMUS\n",
      "processing...  NKE\n",
      "processing...  DIS\n",
      "processing...  WFC\n",
      "processing...  TXN\n",
      "processing...  VZ\n",
      "processing...  UPS\n",
      "processing...  PM\n",
      "processing...  NEE\n",
      "processing...  RTX\n",
      "processing...  MS\n",
      "processing...  INTC\n",
      "processing...  HON\n",
      "processing...  BMY\n",
      "processing...  LOW\n",
      "processing...  QCOM\n",
      "processing...  BA\n",
      "processing...  AXP\n",
      "processing...  SPGI\n",
      "processing...  INTU\n",
      "processing...  CAT\n",
      "processing...  UNP\n",
      "processing...  COP\n",
      "processing...  IBM\n",
      "processing...  AMAT\n",
      "processing...  AMGN\n",
      "processing...  DE\n",
      "processing...  GE\n",
      "processing...  LMT\n",
      "processing...  ISRG\n",
      "processing...  PLD\n",
      "processing...  T\n",
      "processing...  NOW\n",
      "processing...  SYK\n",
      "processing...  SBUX\n",
      "processing...  GS\n",
      "processing...  ELV\n",
      "processing...  BLK\n",
      "processing...  SCHW\n",
      "processing...  MDLZ\n",
      "processing...  BKNG\n",
      "processing...  TJX\n",
      "processing...  GILD\n",
      "processing...  ADI\n",
      "processing...  MMC\n",
      "processing...  ADP\n",
      "processing...  AMT\n",
      "processing...  CVS\n",
      "processing...  VRTX\n",
      "processing...  C\n",
      "processing...  UBER\n",
      "processing...  LRCX\n",
      "processing...  CI\n",
      "processing...  HCA\n",
      "processing...  MO\n",
      "processing...  ABNB\n",
      "processing...  ZTS\n",
      "processing...  PGR\n",
      "processing...  PANW\n",
      "processing...  FI\n",
      "processing...  REGN\n",
      "processing...  SO\n"
     ]
    }
   ],
   "source": [
    "company_info = {}\n",
    "\n",
    "with open(ticker_path, 'r') as myfile:\n",
    "    reader = csv.DictReader(myfile)\n",
    "    for row in reader:\n",
    "        ticker = row['Ticker']\n",
    "        try:\n",
    "            row_data = get_info(ticker)\n",
    "            company_info.update(row_data)\n",
    "        except Exception as e:\n",
    "            print(\"error processing \", ticker + \":\", e)"
   ]
  },
  {
   "cell_type": "code",
   "execution_count": 5,
   "metadata": {},
   "outputs": [
    {
     "name": "stdout",
     "output_type": "stream",
     "text": [
      "Company data saved as company_info.csv\n"
     ]
    }
   ],
   "source": [
    "fieldnames = [\"ticker\", \"shortName\", \"longName\", \"exchange\", \"previousClose\"]\n",
    "\n",
    "output_filename = \"company_info.csv\"\n",
    "output_filepath = f\"{output_path}{output_filename}\"\n",
    "\n",
    "with open(output_filename, 'w', newline='') as csvfile:\n",
    "    writer = csv.DictWriter(csvfile, fieldnames=fieldnames)\n",
    "    writer.writeheader()\n",
    "    for ticker, data in company_info.items():\n",
    "        writer.writerow({\"ticker\": ticker,\n",
    "                         \"shortName\": data.get(\"shortName\", \"\"),\n",
    "                         \"longName\": data.get(\"longName\", \"\"),\n",
    "                         \"exchange\": data.get(\"exchange\", \"\"),\n",
    "                         \"previousClose\": data.get(\"previousClose\", \"\")})\n",
    "\n",
    "print(\"Company data saved as\", output_filename)"
   ]
  },
  {
   "cell_type": "code",
   "execution_count": 23,
   "metadata": {},
   "outputs": [
    {
     "name": "stdout",
     "output_type": "stream",
     "text": [
      "[*********************100%***********************]  1 of 1 completed\n"
     ]
    },
    {
     "data": {
      "text/plain": [
       "Index(['Open', 'High', 'Low', 'Close', 'Adj Close', 'Volume'], dtype='object')"
      ]
     },
     "execution_count": 23,
     "metadata": {},
     "output_type": "execute_result"
    }
   ],
   "source": [
    "test = yf.download('GOOG', start = '2023-07-13')\n",
    "test.columns"
   ]
  },
  {
   "cell_type": "code",
   "execution_count": 9,
   "metadata": {},
   "outputs": [],
   "source": [
    "ticker_df = pd.read_csv(ticker_path)"
   ]
  },
  {
   "cell_type": "code",
   "execution_count": 35,
   "metadata": {},
   "outputs": [
    {
     "name": "stdout",
     "output_type": "stream",
     "text": [
      "Downloading AAPL hisorical prices over requested range.\n",
      "[*********************100%***********************]  1 of 1 completed\n",
      "Downloading MSFT hisorical prices over requested range.\n",
      "[*********************100%***********************]  1 of 1 completed\n",
      "Downloading GOOG hisorical prices over requested range.\n"
     ]
    },
    {
     "name": "stderr",
     "output_type": "stream",
     "text": [
      "/var/folders/y9/z_8b8_4101z89mf3t6r1tf6m0000gn/T/ipykernel_62252/1249129438.py:9: FutureWarning: The frame.append method is deprecated and will be removed from pandas in a future version. Use pandas.concat instead.\n",
      "  history_df = history_df.append(data)\n",
      "/var/folders/y9/z_8b8_4101z89mf3t6r1tf6m0000gn/T/ipykernel_62252/1249129438.py:9: FutureWarning: The frame.append method is deprecated and will be removed from pandas in a future version. Use pandas.concat instead.\n",
      "  history_df = history_df.append(data)\n"
     ]
    },
    {
     "name": "stdout",
     "output_type": "stream",
     "text": [
      "[*********************100%***********************]  1 of 1 completed\n",
      "Downloading AMZN hisorical prices over requested range.\n",
      "[*********************100%***********************]  1 of 1 completed\n",
      "Downloading NVDA hisorical prices over requested range.\n"
     ]
    },
    {
     "name": "stderr",
     "output_type": "stream",
     "text": [
      "/var/folders/y9/z_8b8_4101z89mf3t6r1tf6m0000gn/T/ipykernel_62252/1249129438.py:9: FutureWarning: The frame.append method is deprecated and will be removed from pandas in a future version. Use pandas.concat instead.\n",
      "  history_df = history_df.append(data)\n",
      "/var/folders/y9/z_8b8_4101z89mf3t6r1tf6m0000gn/T/ipykernel_62252/1249129438.py:9: FutureWarning: The frame.append method is deprecated and will be removed from pandas in a future version. Use pandas.concat instead.\n",
      "  history_df = history_df.append(data)\n"
     ]
    },
    {
     "name": "stdout",
     "output_type": "stream",
     "text": [
      "[*********************100%***********************]  1 of 1 completed\n",
      "Downloading TSLA hisorical prices over requested range.\n",
      "[*********************100%***********************]  1 of 1 completed\n",
      "Downloading BRK-B hisorical prices over requested range.\n"
     ]
    },
    {
     "name": "stderr",
     "output_type": "stream",
     "text": [
      "/var/folders/y9/z_8b8_4101z89mf3t6r1tf6m0000gn/T/ipykernel_62252/1249129438.py:9: FutureWarning: The frame.append method is deprecated and will be removed from pandas in a future version. Use pandas.concat instead.\n",
      "  history_df = history_df.append(data)\n",
      "/var/folders/y9/z_8b8_4101z89mf3t6r1tf6m0000gn/T/ipykernel_62252/1249129438.py:9: FutureWarning: The frame.append method is deprecated and will be removed from pandas in a future version. Use pandas.concat instead.\n",
      "  history_df = history_df.append(data)\n"
     ]
    },
    {
     "name": "stdout",
     "output_type": "stream",
     "text": [
      "[*********************100%***********************]  1 of 1 completed\n",
      "Downloading META hisorical prices over requested range.\n",
      "[*********************100%***********************]  1 of 1 completed\n",
      "Downloading V hisorical prices over requested range.\n"
     ]
    },
    {
     "name": "stderr",
     "output_type": "stream",
     "text": [
      "/var/folders/y9/z_8b8_4101z89mf3t6r1tf6m0000gn/T/ipykernel_62252/1249129438.py:9: FutureWarning: The frame.append method is deprecated and will be removed from pandas in a future version. Use pandas.concat instead.\n",
      "  history_df = history_df.append(data)\n",
      "/var/folders/y9/z_8b8_4101z89mf3t6r1tf6m0000gn/T/ipykernel_62252/1249129438.py:9: FutureWarning: The frame.append method is deprecated and will be removed from pandas in a future version. Use pandas.concat instead.\n",
      "  history_df = history_df.append(data)\n"
     ]
    },
    {
     "name": "stdout",
     "output_type": "stream",
     "text": [
      "[*********************100%***********************]  1 of 1 completed\n",
      "Downloading UNH hisorical prices over requested range.\n",
      "[*********************100%***********************]  1 of 1 completed\n",
      "Downloading LLY hisorical prices over requested range.\n"
     ]
    },
    {
     "name": "stderr",
     "output_type": "stream",
     "text": [
      "/var/folders/y9/z_8b8_4101z89mf3t6r1tf6m0000gn/T/ipykernel_62252/1249129438.py:9: FutureWarning: The frame.append method is deprecated and will be removed from pandas in a future version. Use pandas.concat instead.\n",
      "  history_df = history_df.append(data)\n",
      "/var/folders/y9/z_8b8_4101z89mf3t6r1tf6m0000gn/T/ipykernel_62252/1249129438.py:9: FutureWarning: The frame.append method is deprecated and will be removed from pandas in a future version. Use pandas.concat instead.\n",
      "  history_df = history_df.append(data)\n"
     ]
    },
    {
     "name": "stdout",
     "output_type": "stream",
     "text": [
      "[*********************100%***********************]  1 of 1 completed\n",
      "Downloading WMT hisorical prices over requested range.\n",
      "[*********************100%***********************]  1 of 1 completed"
     ]
    },
    {
     "name": "stderr",
     "output_type": "stream",
     "text": [
      "/var/folders/y9/z_8b8_4101z89mf3t6r1tf6m0000gn/T/ipykernel_62252/1249129438.py:9: FutureWarning: The frame.append method is deprecated and will be removed from pandas in a future version. Use pandas.concat instead.\n",
      "  history_df = history_df.append(data)\n"
     ]
    },
    {
     "name": "stdout",
     "output_type": "stream",
     "text": [
      "\n",
      "Downloading JPM hisorical prices over requested range.\n",
      "[*********************100%***********************]  1 of 1 completed"
     ]
    },
    {
     "name": "stderr",
     "output_type": "stream",
     "text": [
      "/var/folders/y9/z_8b8_4101z89mf3t6r1tf6m0000gn/T/ipykernel_62252/1249129438.py:9: FutureWarning: The frame.append method is deprecated and will be removed from pandas in a future version. Use pandas.concat instead.\n",
      "  history_df = history_df.append(data)\n"
     ]
    },
    {
     "name": "stdout",
     "output_type": "stream",
     "text": [
      "\n",
      "Downloading JNJ hisorical prices over requested range.\n"
     ]
    },
    {
     "name": "stderr",
     "output_type": "stream",
     "text": [
      "/var/folders/y9/z_8b8_4101z89mf3t6r1tf6m0000gn/T/ipykernel_62252/1249129438.py:9: FutureWarning: The frame.append method is deprecated and will be removed from pandas in a future version. Use pandas.concat instead.\n",
      "  history_df = history_df.append(data)\n"
     ]
    },
    {
     "name": "stdout",
     "output_type": "stream",
     "text": [
      "[*********************100%***********************]  1 of 1 completed\n",
      "Downloading XOM hisorical prices over requested range.\n"
     ]
    },
    {
     "name": "stderr",
     "output_type": "stream",
     "text": [
      "/var/folders/y9/z_8b8_4101z89mf3t6r1tf6m0000gn/T/ipykernel_62252/1249129438.py:9: FutureWarning: The frame.append method is deprecated and will be removed from pandas in a future version. Use pandas.concat instead.\n",
      "  history_df = history_df.append(data)\n"
     ]
    },
    {
     "name": "stdout",
     "output_type": "stream",
     "text": [
      "[*********************100%***********************]  1 of 1 completed\n",
      "Downloading MA hisorical prices over requested range.\n",
      "[*********************100%***********************]  1 of 1 completed\n",
      "Downloading PG hisorical prices over requested range.\n"
     ]
    },
    {
     "name": "stderr",
     "output_type": "stream",
     "text": [
      "/var/folders/y9/z_8b8_4101z89mf3t6r1tf6m0000gn/T/ipykernel_62252/1249129438.py:9: FutureWarning: The frame.append method is deprecated and will be removed from pandas in a future version. Use pandas.concat instead.\n",
      "  history_df = history_df.append(data)\n",
      "/var/folders/y9/z_8b8_4101z89mf3t6r1tf6m0000gn/T/ipykernel_62252/1249129438.py:9: FutureWarning: The frame.append method is deprecated and will be removed from pandas in a future version. Use pandas.concat instead.\n",
      "  history_df = history_df.append(data)\n"
     ]
    },
    {
     "name": "stdout",
     "output_type": "stream",
     "text": [
      "[*********************100%***********************]  1 of 1 completed\n",
      "Downloading AVGO hisorical prices over requested range.\n",
      "[*********************100%***********************]  1 of 1 completed\n",
      "Downloading ORCL hisorical prices over requested range.\n"
     ]
    },
    {
     "name": "stderr",
     "output_type": "stream",
     "text": [
      "/var/folders/y9/z_8b8_4101z89mf3t6r1tf6m0000gn/T/ipykernel_62252/1249129438.py:9: FutureWarning: The frame.append method is deprecated and will be removed from pandas in a future version. Use pandas.concat instead.\n",
      "  history_df = history_df.append(data)\n",
      "/var/folders/y9/z_8b8_4101z89mf3t6r1tf6m0000gn/T/ipykernel_62252/1249129438.py:9: FutureWarning: The frame.append method is deprecated and will be removed from pandas in a future version. Use pandas.concat instead.\n",
      "  history_df = history_df.append(data)\n"
     ]
    },
    {
     "name": "stdout",
     "output_type": "stream",
     "text": [
      "[*********************100%***********************]  1 of 1 completed\n",
      "Downloading HD hisorical prices over requested range.\n"
     ]
    },
    {
     "name": "stderr",
     "output_type": "stream",
     "text": [
      "/var/folders/y9/z_8b8_4101z89mf3t6r1tf6m0000gn/T/ipykernel_62252/1249129438.py:9: FutureWarning: The frame.append method is deprecated and will be removed from pandas in a future version. Use pandas.concat instead.\n",
      "  history_df = history_df.append(data)\n"
     ]
    },
    {
     "name": "stdout",
     "output_type": "stream",
     "text": [
      "[*********************100%***********************]  1 of 1 completed\n",
      "Downloading MRK hisorical prices over requested range.\n"
     ]
    },
    {
     "name": "stderr",
     "output_type": "stream",
     "text": [
      "/var/folders/y9/z_8b8_4101z89mf3t6r1tf6m0000gn/T/ipykernel_62252/1249129438.py:9: FutureWarning: The frame.append method is deprecated and will be removed from pandas in a future version. Use pandas.concat instead.\n",
      "  history_df = history_df.append(data)\n"
     ]
    },
    {
     "name": "stdout",
     "output_type": "stream",
     "text": [
      "[*********************100%***********************]  1 of 1 completed\n",
      "Downloading CVX hisorical prices over requested range.\n"
     ]
    },
    {
     "name": "stderr",
     "output_type": "stream",
     "text": [
      "/var/folders/y9/z_8b8_4101z89mf3t6r1tf6m0000gn/T/ipykernel_62252/1249129438.py:9: FutureWarning: The frame.append method is deprecated and will be removed from pandas in a future version. Use pandas.concat instead.\n",
      "  history_df = history_df.append(data)\n"
     ]
    },
    {
     "name": "stdout",
     "output_type": "stream",
     "text": [
      "[*********************100%***********************]  1 of 1 completed\n",
      "Downloading KO hisorical prices over requested range.\n"
     ]
    },
    {
     "name": "stderr",
     "output_type": "stream",
     "text": [
      "/var/folders/y9/z_8b8_4101z89mf3t6r1tf6m0000gn/T/ipykernel_62252/1249129438.py:9: FutureWarning: The frame.append method is deprecated and will be removed from pandas in a future version. Use pandas.concat instead.\n",
      "  history_df = history_df.append(data)\n"
     ]
    },
    {
     "name": "stdout",
     "output_type": "stream",
     "text": [
      "[*********************100%***********************]  1 of 1 completed\n",
      "Downloading PEP hisorical prices over requested range.\n"
     ]
    },
    {
     "name": "stderr",
     "output_type": "stream",
     "text": [
      "/var/folders/y9/z_8b8_4101z89mf3t6r1tf6m0000gn/T/ipykernel_62252/1249129438.py:9: FutureWarning: The frame.append method is deprecated and will be removed from pandas in a future version. Use pandas.concat instead.\n",
      "  history_df = history_df.append(data)\n"
     ]
    },
    {
     "name": "stdout",
     "output_type": "stream",
     "text": [
      "[*********************100%***********************]  1 of 1 completed\n",
      "Downloading ABBV hisorical prices over requested range.\n",
      "[*********************100%***********************]  1 of 1 completed\n",
      "Downloading COST hisorical prices over requested range.\n"
     ]
    },
    {
     "name": "stderr",
     "output_type": "stream",
     "text": [
      "/var/folders/y9/z_8b8_4101z89mf3t6r1tf6m0000gn/T/ipykernel_62252/1249129438.py:9: FutureWarning: The frame.append method is deprecated and will be removed from pandas in a future version. Use pandas.concat instead.\n",
      "  history_df = history_df.append(data)\n",
      "/var/folders/y9/z_8b8_4101z89mf3t6r1tf6m0000gn/T/ipykernel_62252/1249129438.py:9: FutureWarning: The frame.append method is deprecated and will be removed from pandas in a future version. Use pandas.concat instead.\n",
      "  history_df = history_df.append(data)\n"
     ]
    },
    {
     "name": "stdout",
     "output_type": "stream",
     "text": [
      "[*********************100%***********************]  1 of 1 completed\n",
      "Downloading BAC hisorical prices over requested range.\n",
      "[*********************100%***********************]  1 of 1 completed\n",
      "Downloading ADBE hisorical prices over requested range.\n"
     ]
    },
    {
     "name": "stderr",
     "output_type": "stream",
     "text": [
      "/var/folders/y9/z_8b8_4101z89mf3t6r1tf6m0000gn/T/ipykernel_62252/1249129438.py:9: FutureWarning: The frame.append method is deprecated and will be removed from pandas in a future version. Use pandas.concat instead.\n",
      "  history_df = history_df.append(data)\n",
      "/var/folders/y9/z_8b8_4101z89mf3t6r1tf6m0000gn/T/ipykernel_62252/1249129438.py:9: FutureWarning: The frame.append method is deprecated and will be removed from pandas in a future version. Use pandas.concat instead.\n",
      "  history_df = history_df.append(data)\n"
     ]
    },
    {
     "name": "stdout",
     "output_type": "stream",
     "text": [
      "[*********************100%***********************]  1 of 1 completed\n",
      "Downloading MCD hisorical prices over requested range.\n"
     ]
    },
    {
     "name": "stderr",
     "output_type": "stream",
     "text": [
      "/var/folders/y9/z_8b8_4101z89mf3t6r1tf6m0000gn/T/ipykernel_62252/1249129438.py:9: FutureWarning: The frame.append method is deprecated and will be removed from pandas in a future version. Use pandas.concat instead.\n",
      "  history_df = history_df.append(data)\n"
     ]
    },
    {
     "name": "stdout",
     "output_type": "stream",
     "text": [
      "[*********************100%***********************]  1 of 1 completed\n",
      "Downloading CSCO hisorical prices over requested range.\n",
      "[*********************100%***********************]  1 of 1 completed\n",
      "Downloading CRM hisorical prices over requested range.\n"
     ]
    },
    {
     "name": "stderr",
     "output_type": "stream",
     "text": [
      "/var/folders/y9/z_8b8_4101z89mf3t6r1tf6m0000gn/T/ipykernel_62252/1249129438.py:9: FutureWarning: The frame.append method is deprecated and will be removed from pandas in a future version. Use pandas.concat instead.\n",
      "  history_df = history_df.append(data)\n",
      "/var/folders/y9/z_8b8_4101z89mf3t6r1tf6m0000gn/T/ipykernel_62252/1249129438.py:9: FutureWarning: The frame.append method is deprecated and will be removed from pandas in a future version. Use pandas.concat instead.\n",
      "  history_df = history_df.append(data)\n"
     ]
    },
    {
     "name": "stdout",
     "output_type": "stream",
     "text": [
      "[*********************100%***********************]  1 of 1 completed\n",
      "Downloading PFE hisorical prices over requested range.\n",
      "[*********************100%***********************]  1 of 1 completed\n"
     ]
    },
    {
     "name": "stderr",
     "output_type": "stream",
     "text": [
      "/var/folders/y9/z_8b8_4101z89mf3t6r1tf6m0000gn/T/ipykernel_62252/1249129438.py:9: FutureWarning: The frame.append method is deprecated and will be removed from pandas in a future version. Use pandas.concat instead.\n",
      "  history_df = history_df.append(data)\n",
      "/var/folders/y9/z_8b8_4101z89mf3t6r1tf6m0000gn/T/ipykernel_62252/1249129438.py:9: FutureWarning: The frame.append method is deprecated and will be removed from pandas in a future version. Use pandas.concat instead.\n",
      "  history_df = history_df.append(data)\n"
     ]
    },
    {
     "name": "stdout",
     "output_type": "stream",
     "text": [
      "Downloading TMO hisorical prices over requested range.\n",
      "[*********************100%***********************]  1 of 1 completed\n",
      "Downloading NFLX hisorical prices over requested range.\n",
      "[*********************100%***********************]  1 of 1 completed\n",
      "Downloading ABT hisorical prices over requested range.\n"
     ]
    },
    {
     "name": "stderr",
     "output_type": "stream",
     "text": [
      "/var/folders/y9/z_8b8_4101z89mf3t6r1tf6m0000gn/T/ipykernel_62252/1249129438.py:9: FutureWarning: The frame.append method is deprecated and will be removed from pandas in a future version. Use pandas.concat instead.\n",
      "  history_df = history_df.append(data)\n",
      "/var/folders/y9/z_8b8_4101z89mf3t6r1tf6m0000gn/T/ipykernel_62252/1249129438.py:9: FutureWarning: The frame.append method is deprecated and will be removed from pandas in a future version. Use pandas.concat instead.\n",
      "  history_df = history_df.append(data)\n"
     ]
    },
    {
     "name": "stdout",
     "output_type": "stream",
     "text": [
      "[*********************100%***********************]  1 of 1 completed\n",
      "Downloading AMD hisorical prices over requested range.\n",
      "[*********************100%***********************]  1 of 1 completed\n",
      "Downloading DHR hisorical prices over requested range.\n"
     ]
    },
    {
     "name": "stderr",
     "output_type": "stream",
     "text": [
      "/var/folders/y9/z_8b8_4101z89mf3t6r1tf6m0000gn/T/ipykernel_62252/1249129438.py:9: FutureWarning: The frame.append method is deprecated and will be removed from pandas in a future version. Use pandas.concat instead.\n",
      "  history_df = history_df.append(data)\n",
      "/var/folders/y9/z_8b8_4101z89mf3t6r1tf6m0000gn/T/ipykernel_62252/1249129438.py:9: FutureWarning: The frame.append method is deprecated and will be removed from pandas in a future version. Use pandas.concat instead.\n",
      "  history_df = history_df.append(data)\n"
     ]
    },
    {
     "name": "stdout",
     "output_type": "stream",
     "text": [
      "[*********************100%***********************]  1 of 1 completed\n",
      "Downloading CMCSA hisorical prices over requested range.\n",
      "[*********************100%***********************]  1 of 1 completed"
     ]
    },
    {
     "name": "stderr",
     "output_type": "stream",
     "text": [
      "/var/folders/y9/z_8b8_4101z89mf3t6r1tf6m0000gn/T/ipykernel_62252/1249129438.py:9: FutureWarning: The frame.append method is deprecated and will be removed from pandas in a future version. Use pandas.concat instead.\n",
      "  history_df = history_df.append(data)\n",
      "/var/folders/y9/z_8b8_4101z89mf3t6r1tf6m0000gn/T/ipykernel_62252/1249129438.py:9: FutureWarning: The frame.append method is deprecated and will be removed from pandas in a future version. Use pandas.concat instead.\n",
      "  history_df = history_df.append(data)\n"
     ]
    },
    {
     "name": "stdout",
     "output_type": "stream",
     "text": [
      "\n",
      "Downloading TMUS hisorical prices over requested range.\n",
      "[*********************100%***********************]  1 of 1 completed\n",
      "Downloading NKE hisorical prices over requested range.\n"
     ]
    },
    {
     "name": "stderr",
     "output_type": "stream",
     "text": [
      "/var/folders/y9/z_8b8_4101z89mf3t6r1tf6m0000gn/T/ipykernel_62252/1249129438.py:9: FutureWarning: The frame.append method is deprecated and will be removed from pandas in a future version. Use pandas.concat instead.\n",
      "  history_df = history_df.append(data)\n"
     ]
    },
    {
     "name": "stdout",
     "output_type": "stream",
     "text": [
      "[*********************100%***********************]  1 of 1 completed\n",
      "Downloading DIS hisorical prices over requested range.\n"
     ]
    },
    {
     "name": "stderr",
     "output_type": "stream",
     "text": [
      "/var/folders/y9/z_8b8_4101z89mf3t6r1tf6m0000gn/T/ipykernel_62252/1249129438.py:9: FutureWarning: The frame.append method is deprecated and will be removed from pandas in a future version. Use pandas.concat instead.\n",
      "  history_df = history_df.append(data)\n"
     ]
    },
    {
     "name": "stdout",
     "output_type": "stream",
     "text": [
      "[*********************100%***********************]  1 of 1 completed\n",
      "Downloading WFC hisorical prices over requested range.\n"
     ]
    },
    {
     "name": "stderr",
     "output_type": "stream",
     "text": [
      "/var/folders/y9/z_8b8_4101z89mf3t6r1tf6m0000gn/T/ipykernel_62252/1249129438.py:9: FutureWarning: The frame.append method is deprecated and will be removed from pandas in a future version. Use pandas.concat instead.\n",
      "  history_df = history_df.append(data)\n"
     ]
    },
    {
     "name": "stdout",
     "output_type": "stream",
     "text": [
      "[*********************100%***********************]  1 of 1 completed\n",
      "Downloading TXN hisorical prices over requested range.\n"
     ]
    },
    {
     "name": "stderr",
     "output_type": "stream",
     "text": [
      "/var/folders/y9/z_8b8_4101z89mf3t6r1tf6m0000gn/T/ipykernel_62252/1249129438.py:9: FutureWarning: The frame.append method is deprecated and will be removed from pandas in a future version. Use pandas.concat instead.\n",
      "  history_df = history_df.append(data)\n"
     ]
    },
    {
     "name": "stdout",
     "output_type": "stream",
     "text": [
      "[*********************100%***********************]  1 of 1 completed\n",
      "Downloading VZ hisorical prices over requested range.\n",
      "[*********************100%***********************]  1 of 1 completed\n"
     ]
    },
    {
     "name": "stderr",
     "output_type": "stream",
     "text": [
      "/var/folders/y9/z_8b8_4101z89mf3t6r1tf6m0000gn/T/ipykernel_62252/1249129438.py:9: FutureWarning: The frame.append method is deprecated and will be removed from pandas in a future version. Use pandas.concat instead.\n",
      "  history_df = history_df.append(data)\n",
      "/var/folders/y9/z_8b8_4101z89mf3t6r1tf6m0000gn/T/ipykernel_62252/1249129438.py:9: FutureWarning: The frame.append method is deprecated and will be removed from pandas in a future version. Use pandas.concat instead.\n",
      "  history_df = history_df.append(data)\n"
     ]
    },
    {
     "name": "stdout",
     "output_type": "stream",
     "text": [
      "Downloading UPS hisorical prices over requested range.\n",
      "[*********************100%***********************]  1 of 1 completed\n",
      "Downloading PM hisorical prices over requested range.\n",
      "[*********************100%***********************]  1 of 1 completed\n",
      "Downloading NEE hisorical prices over requested range.\n"
     ]
    },
    {
     "name": "stderr",
     "output_type": "stream",
     "text": [
      "/var/folders/y9/z_8b8_4101z89mf3t6r1tf6m0000gn/T/ipykernel_62252/1249129438.py:9: FutureWarning: The frame.append method is deprecated and will be removed from pandas in a future version. Use pandas.concat instead.\n",
      "  history_df = history_df.append(data)\n",
      "/var/folders/y9/z_8b8_4101z89mf3t6r1tf6m0000gn/T/ipykernel_62252/1249129438.py:9: FutureWarning: The frame.append method is deprecated and will be removed from pandas in a future version. Use pandas.concat instead.\n",
      "  history_df = history_df.append(data)\n"
     ]
    },
    {
     "name": "stdout",
     "output_type": "stream",
     "text": [
      "[*********************100%***********************]  1 of 1 completed\n",
      "Downloading RTX hisorical prices over requested range.\n"
     ]
    },
    {
     "name": "stderr",
     "output_type": "stream",
     "text": [
      "/var/folders/y9/z_8b8_4101z89mf3t6r1tf6m0000gn/T/ipykernel_62252/1249129438.py:9: FutureWarning: The frame.append method is deprecated and will be removed from pandas in a future version. Use pandas.concat instead.\n",
      "  history_df = history_df.append(data)\n"
     ]
    },
    {
     "name": "stdout",
     "output_type": "stream",
     "text": [
      "[*********************100%***********************]  1 of 1 completed\n",
      "Downloading MS hisorical prices over requested range.\n",
      "[*********************100%***********************]  1 of 1 completed\n"
     ]
    },
    {
     "name": "stderr",
     "output_type": "stream",
     "text": [
      "/var/folders/y9/z_8b8_4101z89mf3t6r1tf6m0000gn/T/ipykernel_62252/1249129438.py:9: FutureWarning: The frame.append method is deprecated and will be removed from pandas in a future version. Use pandas.concat instead.\n",
      "  history_df = history_df.append(data)\n",
      "/var/folders/y9/z_8b8_4101z89mf3t6r1tf6m0000gn/T/ipykernel_62252/1249129438.py:9: FutureWarning: The frame.append method is deprecated and will be removed from pandas in a future version. Use pandas.concat instead.\n",
      "  history_df = history_df.append(data)\n"
     ]
    },
    {
     "name": "stdout",
     "output_type": "stream",
     "text": [
      "Downloading INTC hisorical prices over requested range.\n",
      "[*********************100%***********************]  1 of 1 completed\n",
      "Downloading HON hisorical prices over requested range.\n"
     ]
    },
    {
     "name": "stderr",
     "output_type": "stream",
     "text": [
      "/var/folders/y9/z_8b8_4101z89mf3t6r1tf6m0000gn/T/ipykernel_62252/1249129438.py:9: FutureWarning: The frame.append method is deprecated and will be removed from pandas in a future version. Use pandas.concat instead.\n",
      "  history_df = history_df.append(data)\n"
     ]
    },
    {
     "name": "stdout",
     "output_type": "stream",
     "text": [
      "[*********************100%***********************]  1 of 1 completed\n",
      "Downloading BMY hisorical prices over requested range.\n"
     ]
    },
    {
     "name": "stderr",
     "output_type": "stream",
     "text": [
      "/var/folders/y9/z_8b8_4101z89mf3t6r1tf6m0000gn/T/ipykernel_62252/1249129438.py:9: FutureWarning: The frame.append method is deprecated and will be removed from pandas in a future version. Use pandas.concat instead.\n",
      "  history_df = history_df.append(data)\n"
     ]
    },
    {
     "name": "stdout",
     "output_type": "stream",
     "text": [
      "[*********************100%***********************]  1 of 1 completed\n",
      "Downloading LOW hisorical prices over requested range.\n"
     ]
    },
    {
     "name": "stderr",
     "output_type": "stream",
     "text": [
      "/var/folders/y9/z_8b8_4101z89mf3t6r1tf6m0000gn/T/ipykernel_62252/1249129438.py:9: FutureWarning: The frame.append method is deprecated and will be removed from pandas in a future version. Use pandas.concat instead.\n",
      "  history_df = history_df.append(data)\n"
     ]
    },
    {
     "name": "stdout",
     "output_type": "stream",
     "text": [
      "[*********************100%***********************]  1 of 1 completed\n",
      "Downloading QCOM hisorical prices over requested range.\n",
      "[*********************100%***********************]  1 of 1 completed"
     ]
    },
    {
     "name": "stderr",
     "output_type": "stream",
     "text": [
      "/var/folders/y9/z_8b8_4101z89mf3t6r1tf6m0000gn/T/ipykernel_62252/1249129438.py:9: FutureWarning: The frame.append method is deprecated and will be removed from pandas in a future version. Use pandas.concat instead.\n",
      "  history_df = history_df.append(data)\n"
     ]
    },
    {
     "name": "stdout",
     "output_type": "stream",
     "text": [
      "\n",
      "Downloading BA hisorical prices over requested range.\n"
     ]
    },
    {
     "name": "stderr",
     "output_type": "stream",
     "text": [
      "/var/folders/y9/z_8b8_4101z89mf3t6r1tf6m0000gn/T/ipykernel_62252/1249129438.py:9: FutureWarning: The frame.append method is deprecated and will be removed from pandas in a future version. Use pandas.concat instead.\n",
      "  history_df = history_df.append(data)\n"
     ]
    },
    {
     "name": "stdout",
     "output_type": "stream",
     "text": [
      "[*********************100%***********************]  1 of 1 completed\n",
      "Downloading AXP hisorical prices over requested range.\n"
     ]
    },
    {
     "name": "stderr",
     "output_type": "stream",
     "text": [
      "/var/folders/y9/z_8b8_4101z89mf3t6r1tf6m0000gn/T/ipykernel_62252/1249129438.py:9: FutureWarning: The frame.append method is deprecated and will be removed from pandas in a future version. Use pandas.concat instead.\n",
      "  history_df = history_df.append(data)\n"
     ]
    },
    {
     "name": "stdout",
     "output_type": "stream",
     "text": [
      "[*********************100%***********************]  1 of 1 completed\n",
      "Downloading SPGI hisorical prices over requested range.\n",
      "[*********************100%***********************]  1 of 1 completed"
     ]
    },
    {
     "name": "stderr",
     "output_type": "stream",
     "text": [
      "/var/folders/y9/z_8b8_4101z89mf3t6r1tf6m0000gn/T/ipykernel_62252/1249129438.py:9: FutureWarning: The frame.append method is deprecated and will be removed from pandas in a future version. Use pandas.concat instead.\n",
      "  history_df = history_df.append(data)\n"
     ]
    },
    {
     "name": "stdout",
     "output_type": "stream",
     "text": [
      "\n",
      "Downloading INTU hisorical prices over requested range.\n",
      "[*********************100%***********************]  1 of 1 completed\n",
      "Downloading CAT hisorical prices over requested range.\n"
     ]
    },
    {
     "name": "stderr",
     "output_type": "stream",
     "text": [
      "/var/folders/y9/z_8b8_4101z89mf3t6r1tf6m0000gn/T/ipykernel_62252/1249129438.py:9: FutureWarning: The frame.append method is deprecated and will be removed from pandas in a future version. Use pandas.concat instead.\n",
      "  history_df = history_df.append(data)\n",
      "/var/folders/y9/z_8b8_4101z89mf3t6r1tf6m0000gn/T/ipykernel_62252/1249129438.py:9: FutureWarning: The frame.append method is deprecated and will be removed from pandas in a future version. Use pandas.concat instead.\n",
      "  history_df = history_df.append(data)\n"
     ]
    },
    {
     "name": "stdout",
     "output_type": "stream",
     "text": [
      "[*********************100%***********************]  1 of 1 completed\n",
      "Downloading UNP hisorical prices over requested range.\n",
      "[*********************100%***********************]  1 of 1 completed"
     ]
    },
    {
     "name": "stderr",
     "output_type": "stream",
     "text": [
      "/var/folders/y9/z_8b8_4101z89mf3t6r1tf6m0000gn/T/ipykernel_62252/1249129438.py:9: FutureWarning: The frame.append method is deprecated and will be removed from pandas in a future version. Use pandas.concat instead.\n",
      "  history_df = history_df.append(data)\n",
      "/var/folders/y9/z_8b8_4101z89mf3t6r1tf6m0000gn/T/ipykernel_62252/1249129438.py:9: FutureWarning: The frame.append method is deprecated and will be removed from pandas in a future version. Use pandas.concat instead.\n",
      "  history_df = history_df.append(data)\n"
     ]
    },
    {
     "name": "stdout",
     "output_type": "stream",
     "text": [
      "\n",
      "Downloading COP hisorical prices over requested range.\n",
      "[*********************100%***********************]  1 of 1 completed\n",
      "Downloading IBM hisorical prices over requested range.\n"
     ]
    },
    {
     "name": "stderr",
     "output_type": "stream",
     "text": [
      "/var/folders/y9/z_8b8_4101z89mf3t6r1tf6m0000gn/T/ipykernel_62252/1249129438.py:9: FutureWarning: The frame.append method is deprecated and will be removed from pandas in a future version. Use pandas.concat instead.\n",
      "  history_df = history_df.append(data)\n"
     ]
    },
    {
     "name": "stdout",
     "output_type": "stream",
     "text": [
      "[*********************100%***********************]  1 of 1 completed\n",
      "Downloading AMAT hisorical prices over requested range.\n",
      "[*********************100%***********************]  1 of 1 completed\n",
      "Downloading AMGN hisorical prices over requested range.\n"
     ]
    },
    {
     "name": "stderr",
     "output_type": "stream",
     "text": [
      "/var/folders/y9/z_8b8_4101z89mf3t6r1tf6m0000gn/T/ipykernel_62252/1249129438.py:9: FutureWarning: The frame.append method is deprecated and will be removed from pandas in a future version. Use pandas.concat instead.\n",
      "  history_df = history_df.append(data)\n",
      "/var/folders/y9/z_8b8_4101z89mf3t6r1tf6m0000gn/T/ipykernel_62252/1249129438.py:9: FutureWarning: The frame.append method is deprecated and will be removed from pandas in a future version. Use pandas.concat instead.\n",
      "  history_df = history_df.append(data)\n"
     ]
    },
    {
     "name": "stdout",
     "output_type": "stream",
     "text": [
      "[*********************100%***********************]  1 of 1 completed\n",
      "Downloading DE hisorical prices over requested range.\n"
     ]
    },
    {
     "name": "stderr",
     "output_type": "stream",
     "text": [
      "/var/folders/y9/z_8b8_4101z89mf3t6r1tf6m0000gn/T/ipykernel_62252/1249129438.py:9: FutureWarning: The frame.append method is deprecated and will be removed from pandas in a future version. Use pandas.concat instead.\n",
      "  history_df = history_df.append(data)\n"
     ]
    },
    {
     "name": "stdout",
     "output_type": "stream",
     "text": [
      "[*********************100%***********************]  1 of 1 completed\n",
      "Downloading GE hisorical prices over requested range.\n"
     ]
    },
    {
     "name": "stderr",
     "output_type": "stream",
     "text": [
      "/var/folders/y9/z_8b8_4101z89mf3t6r1tf6m0000gn/T/ipykernel_62252/1249129438.py:9: FutureWarning: The frame.append method is deprecated and will be removed from pandas in a future version. Use pandas.concat instead.\n",
      "  history_df = history_df.append(data)\n"
     ]
    },
    {
     "name": "stdout",
     "output_type": "stream",
     "text": [
      "[*********************100%***********************]  1 of 1 completed\n",
      "Downloading LMT hisorical prices over requested range.\n"
     ]
    },
    {
     "name": "stderr",
     "output_type": "stream",
     "text": [
      "/var/folders/y9/z_8b8_4101z89mf3t6r1tf6m0000gn/T/ipykernel_62252/1249129438.py:9: FutureWarning: The frame.append method is deprecated and will be removed from pandas in a future version. Use pandas.concat instead.\n",
      "  history_df = history_df.append(data)\n"
     ]
    },
    {
     "name": "stdout",
     "output_type": "stream",
     "text": [
      "[*********************100%***********************]  1 of 1 completed\n",
      "Downloading ISRG hisorical prices over requested range.\n",
      "[*********************100%***********************]  1 of 1 completed\n",
      "Downloading PLD hisorical prices over requested range.\n"
     ]
    },
    {
     "name": "stderr",
     "output_type": "stream",
     "text": [
      "/var/folders/y9/z_8b8_4101z89mf3t6r1tf6m0000gn/T/ipykernel_62252/1249129438.py:9: FutureWarning: The frame.append method is deprecated and will be removed from pandas in a future version. Use pandas.concat instead.\n",
      "  history_df = history_df.append(data)\n",
      "/var/folders/y9/z_8b8_4101z89mf3t6r1tf6m0000gn/T/ipykernel_62252/1249129438.py:9: FutureWarning: The frame.append method is deprecated and will be removed from pandas in a future version. Use pandas.concat instead.\n",
      "  history_df = history_df.append(data)\n"
     ]
    },
    {
     "name": "stdout",
     "output_type": "stream",
     "text": [
      "[*********************100%***********************]  1 of 1 completed\n",
      "Downloading T hisorical prices over requested range.\n"
     ]
    },
    {
     "name": "stderr",
     "output_type": "stream",
     "text": [
      "/var/folders/y9/z_8b8_4101z89mf3t6r1tf6m0000gn/T/ipykernel_62252/1249129438.py:9: FutureWarning: The frame.append method is deprecated and will be removed from pandas in a future version. Use pandas.concat instead.\n",
      "  history_df = history_df.append(data)\n"
     ]
    },
    {
     "name": "stdout",
     "output_type": "stream",
     "text": [
      "[*********************100%***********************]  1 of 1 completed\n",
      "Downloading NOW hisorical prices over requested range.\n",
      "[*********************100%***********************]  1 of 1 completed\n",
      "Downloading SYK hisorical prices over requested range.\n"
     ]
    },
    {
     "name": "stderr",
     "output_type": "stream",
     "text": [
      "/var/folders/y9/z_8b8_4101z89mf3t6r1tf6m0000gn/T/ipykernel_62252/1249129438.py:9: FutureWarning: The frame.append method is deprecated and will be removed from pandas in a future version. Use pandas.concat instead.\n",
      "  history_df = history_df.append(data)\n",
      "/var/folders/y9/z_8b8_4101z89mf3t6r1tf6m0000gn/T/ipykernel_62252/1249129438.py:9: FutureWarning: The frame.append method is deprecated and will be removed from pandas in a future version. Use pandas.concat instead.\n",
      "  history_df = history_df.append(data)\n"
     ]
    },
    {
     "name": "stdout",
     "output_type": "stream",
     "text": [
      "[*********************100%***********************]  1 of 1 completed\n",
      "Downloading SBUX hisorical prices over requested range.\n",
      "[*********************100%***********************]  1 of 1 completed\n",
      "Downloading GS hisorical prices over requested range.\n"
     ]
    },
    {
     "name": "stderr",
     "output_type": "stream",
     "text": [
      "/var/folders/y9/z_8b8_4101z89mf3t6r1tf6m0000gn/T/ipykernel_62252/1249129438.py:9: FutureWarning: The frame.append method is deprecated and will be removed from pandas in a future version. Use pandas.concat instead.\n",
      "  history_df = history_df.append(data)\n",
      "/var/folders/y9/z_8b8_4101z89mf3t6r1tf6m0000gn/T/ipykernel_62252/1249129438.py:9: FutureWarning: The frame.append method is deprecated and will be removed from pandas in a future version. Use pandas.concat instead.\n",
      "  history_df = history_df.append(data)\n"
     ]
    },
    {
     "name": "stdout",
     "output_type": "stream",
     "text": [
      "[*********************100%***********************]  1 of 1 completed\n",
      "Downloading ELV hisorical prices over requested range.\n",
      "[*********************100%***********************]  1 of 1 completed\n",
      "Downloading BLK hisorical prices over requested range.\n"
     ]
    },
    {
     "name": "stderr",
     "output_type": "stream",
     "text": [
      "/var/folders/y9/z_8b8_4101z89mf3t6r1tf6m0000gn/T/ipykernel_62252/1249129438.py:9: FutureWarning: The frame.append method is deprecated and will be removed from pandas in a future version. Use pandas.concat instead.\n",
      "  history_df = history_df.append(data)\n",
      "/var/folders/y9/z_8b8_4101z89mf3t6r1tf6m0000gn/T/ipykernel_62252/1249129438.py:9: FutureWarning: The frame.append method is deprecated and will be removed from pandas in a future version. Use pandas.concat instead.\n",
      "  history_df = history_df.append(data)\n"
     ]
    },
    {
     "name": "stdout",
     "output_type": "stream",
     "text": [
      "[*********************100%***********************]  1 of 1 completed\n",
      "Downloading SCHW hisorical prices over requested range.\n",
      "[*********************100%***********************]  1 of 1 completed\n",
      "Downloading MDLZ hisorical prices over requested range.\n"
     ]
    },
    {
     "name": "stderr",
     "output_type": "stream",
     "text": [
      "/var/folders/y9/z_8b8_4101z89mf3t6r1tf6m0000gn/T/ipykernel_62252/1249129438.py:9: FutureWarning: The frame.append method is deprecated and will be removed from pandas in a future version. Use pandas.concat instead.\n",
      "  history_df = history_df.append(data)\n",
      "/var/folders/y9/z_8b8_4101z89mf3t6r1tf6m0000gn/T/ipykernel_62252/1249129438.py:9: FutureWarning: The frame.append method is deprecated and will be removed from pandas in a future version. Use pandas.concat instead.\n",
      "  history_df = history_df.append(data)\n"
     ]
    },
    {
     "name": "stdout",
     "output_type": "stream",
     "text": [
      "[*********************100%***********************]  1 of 1 completed\n",
      "Downloading BKNG hisorical prices over requested range.\n",
      "[*********************100%***********************]  1 of 1 completed\n",
      "Downloading TJX hisorical prices over requested range.\n"
     ]
    },
    {
     "name": "stderr",
     "output_type": "stream",
     "text": [
      "/var/folders/y9/z_8b8_4101z89mf3t6r1tf6m0000gn/T/ipykernel_62252/1249129438.py:9: FutureWarning: The frame.append method is deprecated and will be removed from pandas in a future version. Use pandas.concat instead.\n",
      "  history_df = history_df.append(data)\n",
      "/var/folders/y9/z_8b8_4101z89mf3t6r1tf6m0000gn/T/ipykernel_62252/1249129438.py:9: FutureWarning: The frame.append method is deprecated and will be removed from pandas in a future version. Use pandas.concat instead.\n",
      "  history_df = history_df.append(data)\n"
     ]
    },
    {
     "name": "stdout",
     "output_type": "stream",
     "text": [
      "[*********************100%***********************]  1 of 1 completed\n",
      "Downloading GILD hisorical prices over requested range.\n",
      "[*********************100%***********************]  1 of 1 completed\n",
      "Downloading ADI hisorical prices over requested range.\n"
     ]
    },
    {
     "name": "stderr",
     "output_type": "stream",
     "text": [
      "/var/folders/y9/z_8b8_4101z89mf3t6r1tf6m0000gn/T/ipykernel_62252/1249129438.py:9: FutureWarning: The frame.append method is deprecated and will be removed from pandas in a future version. Use pandas.concat instead.\n",
      "  history_df = history_df.append(data)\n",
      "/var/folders/y9/z_8b8_4101z89mf3t6r1tf6m0000gn/T/ipykernel_62252/1249129438.py:9: FutureWarning: The frame.append method is deprecated and will be removed from pandas in a future version. Use pandas.concat instead.\n",
      "  history_df = history_df.append(data)\n"
     ]
    },
    {
     "name": "stdout",
     "output_type": "stream",
     "text": [
      "[*********************100%***********************]  1 of 1 completed\n",
      "Downloading MMC hisorical prices over requested range.\n",
      "[*********************100%***********************]  1 of 1 completed"
     ]
    },
    {
     "name": "stderr",
     "output_type": "stream",
     "text": [
      "/var/folders/y9/z_8b8_4101z89mf3t6r1tf6m0000gn/T/ipykernel_62252/1249129438.py:9: FutureWarning: The frame.append method is deprecated and will be removed from pandas in a future version. Use pandas.concat instead.\n",
      "  history_df = history_df.append(data)\n",
      "/var/folders/y9/z_8b8_4101z89mf3t6r1tf6m0000gn/T/ipykernel_62252/1249129438.py:9: FutureWarning: The frame.append method is deprecated and will be removed from pandas in a future version. Use pandas.concat instead.\n",
      "  history_df = history_df.append(data)\n"
     ]
    },
    {
     "name": "stdout",
     "output_type": "stream",
     "text": [
      "\n",
      "Downloading ADP hisorical prices over requested range.\n",
      "[*********************100%***********************]  1 of 1 completed\n",
      "Downloading AMT hisorical prices over requested range.\n",
      "[*********************100%***********************]  1 of 1 completed\n",
      "Downloading CVS hisorical prices over requested range.\n"
     ]
    },
    {
     "name": "stderr",
     "output_type": "stream",
     "text": [
      "/var/folders/y9/z_8b8_4101z89mf3t6r1tf6m0000gn/T/ipykernel_62252/1249129438.py:9: FutureWarning: The frame.append method is deprecated and will be removed from pandas in a future version. Use pandas.concat instead.\n",
      "  history_df = history_df.append(data)\n",
      "/var/folders/y9/z_8b8_4101z89mf3t6r1tf6m0000gn/T/ipykernel_62252/1249129438.py:9: FutureWarning: The frame.append method is deprecated and will be removed from pandas in a future version. Use pandas.concat instead.\n",
      "  history_df = history_df.append(data)\n"
     ]
    },
    {
     "name": "stdout",
     "output_type": "stream",
     "text": [
      "[*********************100%***********************]  1 of 1 completed\n",
      "Downloading VRTX hisorical prices over requested range.\n",
      "[*********************100%***********************]  1 of 1 completed\n",
      "Downloading C hisorical prices over requested range.\n"
     ]
    },
    {
     "name": "stderr",
     "output_type": "stream",
     "text": [
      "/var/folders/y9/z_8b8_4101z89mf3t6r1tf6m0000gn/T/ipykernel_62252/1249129438.py:9: FutureWarning: The frame.append method is deprecated and will be removed from pandas in a future version. Use pandas.concat instead.\n",
      "  history_df = history_df.append(data)\n",
      "/var/folders/y9/z_8b8_4101z89mf3t6r1tf6m0000gn/T/ipykernel_62252/1249129438.py:9: FutureWarning: The frame.append method is deprecated and will be removed from pandas in a future version. Use pandas.concat instead.\n",
      "  history_df = history_df.append(data)\n"
     ]
    },
    {
     "name": "stdout",
     "output_type": "stream",
     "text": [
      "[*********************100%***********************]  1 of 1 completed\n",
      "Downloading UBER hisorical prices over requested range.\n",
      "[*********************100%***********************]  1 of 1 completed\n",
      "Downloading LRCX hisorical prices over requested range.\n"
     ]
    },
    {
     "name": "stderr",
     "output_type": "stream",
     "text": [
      "/var/folders/y9/z_8b8_4101z89mf3t6r1tf6m0000gn/T/ipykernel_62252/1249129438.py:9: FutureWarning: The frame.append method is deprecated and will be removed from pandas in a future version. Use pandas.concat instead.\n",
      "  history_df = history_df.append(data)\n",
      "/var/folders/y9/z_8b8_4101z89mf3t6r1tf6m0000gn/T/ipykernel_62252/1249129438.py:9: FutureWarning: The frame.append method is deprecated and will be removed from pandas in a future version. Use pandas.concat instead.\n",
      "  history_df = history_df.append(data)\n"
     ]
    },
    {
     "name": "stdout",
     "output_type": "stream",
     "text": [
      "[*********************100%***********************]  1 of 1 completed\n",
      "Downloading CI hisorical prices over requested range.\n"
     ]
    },
    {
     "name": "stderr",
     "output_type": "stream",
     "text": [
      "/var/folders/y9/z_8b8_4101z89mf3t6r1tf6m0000gn/T/ipykernel_62252/1249129438.py:9: FutureWarning: The frame.append method is deprecated and will be removed from pandas in a future version. Use pandas.concat instead.\n",
      "  history_df = history_df.append(data)\n"
     ]
    },
    {
     "name": "stdout",
     "output_type": "stream",
     "text": [
      "[*********************100%***********************]  1 of 1 completed\n",
      "Downloading HCA hisorical prices over requested range.\n",
      "[*********************100%***********************]  1 of 1 completed\n",
      "Downloading MO hisorical prices over requested range.\n"
     ]
    },
    {
     "name": "stderr",
     "output_type": "stream",
     "text": [
      "/var/folders/y9/z_8b8_4101z89mf3t6r1tf6m0000gn/T/ipykernel_62252/1249129438.py:9: FutureWarning: The frame.append method is deprecated and will be removed from pandas in a future version. Use pandas.concat instead.\n",
      "  history_df = history_df.append(data)\n",
      "/var/folders/y9/z_8b8_4101z89mf3t6r1tf6m0000gn/T/ipykernel_62252/1249129438.py:9: FutureWarning: The frame.append method is deprecated and will be removed from pandas in a future version. Use pandas.concat instead.\n",
      "  history_df = history_df.append(data)\n"
     ]
    },
    {
     "name": "stdout",
     "output_type": "stream",
     "text": [
      "[*********************100%***********************]  1 of 1 completed\n",
      "Downloading ABNB hisorical prices over requested range.\n",
      "[*********************100%***********************]  1 of 1 completed\n",
      "Downloading ZTS hisorical prices over requested range.\n"
     ]
    },
    {
     "name": "stderr",
     "output_type": "stream",
     "text": [
      "/var/folders/y9/z_8b8_4101z89mf3t6r1tf6m0000gn/T/ipykernel_62252/1249129438.py:9: FutureWarning: The frame.append method is deprecated and will be removed from pandas in a future version. Use pandas.concat instead.\n",
      "  history_df = history_df.append(data)\n",
      "/var/folders/y9/z_8b8_4101z89mf3t6r1tf6m0000gn/T/ipykernel_62252/1249129438.py:9: FutureWarning: The frame.append method is deprecated and will be removed from pandas in a future version. Use pandas.concat instead.\n",
      "  history_df = history_df.append(data)\n"
     ]
    },
    {
     "name": "stdout",
     "output_type": "stream",
     "text": [
      "[*********************100%***********************]  1 of 1 completed\n",
      "Downloading PGR hisorical prices over requested range.\n",
      "[*********************100%***********************]  1 of 1 completed\n"
     ]
    },
    {
     "name": "stderr",
     "output_type": "stream",
     "text": [
      "/var/folders/y9/z_8b8_4101z89mf3t6r1tf6m0000gn/T/ipykernel_62252/1249129438.py:9: FutureWarning: The frame.append method is deprecated and will be removed from pandas in a future version. Use pandas.concat instead.\n",
      "  history_df = history_df.append(data)\n",
      "/var/folders/y9/z_8b8_4101z89mf3t6r1tf6m0000gn/T/ipykernel_62252/1249129438.py:9: FutureWarning: The frame.append method is deprecated and will be removed from pandas in a future version. Use pandas.concat instead.\n",
      "  history_df = history_df.append(data)\n"
     ]
    },
    {
     "name": "stdout",
     "output_type": "stream",
     "text": [
      "Downloading PANW hisorical prices over requested range.\n",
      "[*********************100%***********************]  1 of 1 completed\n",
      "Downloading FI hisorical prices over requested range.\n",
      "[*********************100%***********************]  1 of 1 completed\n",
      "Downloading REGN hisorical prices over requested range.\n"
     ]
    },
    {
     "name": "stderr",
     "output_type": "stream",
     "text": [
      "/var/folders/y9/z_8b8_4101z89mf3t6r1tf6m0000gn/T/ipykernel_62252/1249129438.py:9: FutureWarning: The frame.append method is deprecated and will be removed from pandas in a future version. Use pandas.concat instead.\n",
      "  history_df = history_df.append(data)\n",
      "/var/folders/y9/z_8b8_4101z89mf3t6r1tf6m0000gn/T/ipykernel_62252/1249129438.py:9: FutureWarning: The frame.append method is deprecated and will be removed from pandas in a future version. Use pandas.concat instead.\n",
      "  history_df = history_df.append(data)\n"
     ]
    },
    {
     "name": "stdout",
     "output_type": "stream",
     "text": [
      "[*********************100%***********************]  1 of 1 completed\n",
      "Downloading SO hisorical prices over requested range.\n"
     ]
    },
    {
     "name": "stderr",
     "output_type": "stream",
     "text": [
      "/var/folders/y9/z_8b8_4101z89mf3t6r1tf6m0000gn/T/ipykernel_62252/1249129438.py:9: FutureWarning: The frame.append method is deprecated and will be removed from pandas in a future version. Use pandas.concat instead.\n",
      "  history_df = history_df.append(data)\n"
     ]
    },
    {
     "name": "stdout",
     "output_type": "stream",
     "text": [
      "[*********************100%***********************]  1 of 1 completed\n"
     ]
    },
    {
     "name": "stderr",
     "output_type": "stream",
     "text": [
      "/var/folders/y9/z_8b8_4101z89mf3t6r1tf6m0000gn/T/ipykernel_62252/1249129438.py:9: FutureWarning: The frame.append method is deprecated and will be removed from pandas in a future version. Use pandas.concat instead.\n",
      "  history_df = history_df.append(data)\n"
     ]
    }
   ],
   "source": [
    "start = \"2023-07-01\"\n",
    "\n",
    "history_df = pd.DataFrame()  # Initialize an empty dataframe to store the results\n",
    "\n",
    "for ticker in ticker_df['Ticker']:\n",
    "    print(f\"Downloading {ticker} hisorical prices over requested range.\")\n",
    "    data = yf.download(ticker, start)\n",
    "    data['ticker'] = ticker  # Add a new column with the ticker symbol\n",
    "    history_df = history_df.append(data)\n",
    "\n",
    "# Convert the dataframe to the desired JSON format\n",
    "json_data = history_df.reset_index().groupby('ticker').apply(\n",
    "    lambda x: x[['Open', 'High', 'Low', 'Close','Volume']].to_dict('records')\n",
    ").reset_index().rename(columns={0: 'daily'}).to_json(orient='records')\n",
    "\n",
    "# Save the JSON data to a file\n",
    "with open(f\"{output_path}/stock_data.json\", 'w') as file:\n",
    "    file.write(json_data)"
   ]
  },
  {
   "cell_type": "code",
   "execution_count": 37,
   "metadata": {},
   "outputs": [
    {
     "data": {
      "text/html": [
       "<div>\n",
       "<style scoped>\n",
       "    .dataframe tbody tr th:only-of-type {\n",
       "        vertical-align: middle;\n",
       "    }\n",
       "\n",
       "    .dataframe tbody tr th {\n",
       "        vertical-align: top;\n",
       "    }\n",
       "\n",
       "    .dataframe thead th {\n",
       "        text-align: right;\n",
       "    }\n",
       "</style>\n",
       "<table border=\"1\" class=\"dataframe\">\n",
       "  <thead>\n",
       "    <tr style=\"text-align: right;\">\n",
       "      <th></th>\n",
       "      <th>Date</th>\n",
       "      <th>Open</th>\n",
       "      <th>High</th>\n",
       "      <th>Low</th>\n",
       "      <th>Close</th>\n",
       "      <th>Adj Close</th>\n",
       "      <th>Volume</th>\n",
       "      <th>ticker</th>\n",
       "    </tr>\n",
       "  </thead>\n",
       "  <tbody>\n",
       "    <tr>\n",
       "      <th>0</th>\n",
       "      <td>2023-07-03</td>\n",
       "      <td>193.779999</td>\n",
       "      <td>193.880005</td>\n",
       "      <td>191.759995</td>\n",
       "      <td>192.460007</td>\n",
       "      <td>192.460007</td>\n",
       "      <td>31458200</td>\n",
       "      <td>AAPL</td>\n",
       "    </tr>\n",
       "    <tr>\n",
       "      <th>1</th>\n",
       "      <td>2023-07-05</td>\n",
       "      <td>191.570007</td>\n",
       "      <td>192.979996</td>\n",
       "      <td>190.619995</td>\n",
       "      <td>191.330002</td>\n",
       "      <td>191.330002</td>\n",
       "      <td>46920300</td>\n",
       "      <td>AAPL</td>\n",
       "    </tr>\n",
       "    <tr>\n",
       "      <th>2</th>\n",
       "      <td>2023-07-06</td>\n",
       "      <td>189.839996</td>\n",
       "      <td>192.020004</td>\n",
       "      <td>189.199997</td>\n",
       "      <td>191.809998</td>\n",
       "      <td>191.809998</td>\n",
       "      <td>45094300</td>\n",
       "      <td>AAPL</td>\n",
       "    </tr>\n",
       "    <tr>\n",
       "      <th>3</th>\n",
       "      <td>2023-07-07</td>\n",
       "      <td>191.410004</td>\n",
       "      <td>192.669998</td>\n",
       "      <td>190.240005</td>\n",
       "      <td>190.679993</td>\n",
       "      <td>190.679993</td>\n",
       "      <td>46778000</td>\n",
       "      <td>AAPL</td>\n",
       "    </tr>\n",
       "    <tr>\n",
       "      <th>4</th>\n",
       "      <td>2023-07-10</td>\n",
       "      <td>189.259995</td>\n",
       "      <td>189.990005</td>\n",
       "      <td>187.039993</td>\n",
       "      <td>188.610001</td>\n",
       "      <td>188.610001</td>\n",
       "      <td>59922200</td>\n",
       "      <td>AAPL</td>\n",
       "    </tr>\n",
       "  </tbody>\n",
       "</table>\n",
       "</div>"
      ],
      "text/plain": [
       "        Date        Open        High         Low       Close   Adj Close  \\\n",
       "0 2023-07-03  193.779999  193.880005  191.759995  192.460007  192.460007   \n",
       "1 2023-07-05  191.570007  192.979996  190.619995  191.330002  191.330002   \n",
       "2 2023-07-06  189.839996  192.020004  189.199997  191.809998  191.809998   \n",
       "3 2023-07-07  191.410004  192.669998  190.240005  190.679993  190.679993   \n",
       "4 2023-07-10  189.259995  189.990005  187.039993  188.610001  188.610001   \n",
       "\n",
       "     Volume ticker  \n",
       "0  31458200   AAPL  \n",
       "1  46920300   AAPL  \n",
       "2  45094300   AAPL  \n",
       "3  46778000   AAPL  \n",
       "4  59922200   AAPL  "
      ]
     },
     "execution_count": 37,
     "metadata": {},
     "output_type": "execute_result"
    }
   ],
   "source": [
    "history_df.reset_index(inplace=True)\n",
    "history_df.head()"
   ]
  },
  {
   "cell_type": "code",
   "execution_count": 38,
   "metadata": {},
   "outputs": [],
   "source": [
    "history_df.to_json(f\"{output_path}/stock_data2.json\", orient = 'records')"
   ]
  },
  {
   "cell_type": "code",
   "execution_count": null,
   "metadata": {},
   "outputs": [],
   "source": []
  }
 ],
 "metadata": {
  "kernelspec": {
   "display_name": "dev",
   "language": "python",
   "name": "python3"
  },
  "language_info": {
   "codemirror_mode": {
    "name": "ipython",
    "version": 3
   },
   "file_extension": ".py",
   "mimetype": "text/x-python",
   "name": "python",
   "nbconvert_exporter": "python",
   "pygments_lexer": "ipython3",
   "version": "3.10.11"
  },
  "orig_nbformat": 4
 },
 "nbformat": 4,
 "nbformat_minor": 2
}
